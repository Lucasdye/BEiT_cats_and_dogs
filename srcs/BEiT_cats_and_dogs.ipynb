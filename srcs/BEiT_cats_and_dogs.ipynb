{
 "cells": [
  {
   "cell_type": "code",
   "execution_count": null,
   "metadata": {},
   "outputs": [],
   "source": [
    "from params import params\n",
    "import requests\n",
    "from fine_tuning import fine_tuning_beit as fn\n",
    "from image_collector import image_collector as ic\n",
    "import torch\n",
    "import os\n",
    "from torch.optim import Adam\n",
    "from torch.nn import CrossEntropyLoss \n",
    "from transformers import BeitConfig, BeitImageProcessor, BeitForImageClassification\n",
    "# from srcs.image_collector.image_collector import load_image_collection, RGB_convert\n",
    "# from make_graph import make_graph\n",
    "from matplotlib import pyplot as plt"
   ]
  },
  {
   "cell_type": "code",
   "execution_count": null,
   "metadata": {},
   "outputs": [],
   "source": [
    "#------------------------ Download collections ---------------------------#\n",
    "# os.makedirs(params.cats_val_path, exis_ok=True)\n",
    "# cats_url = fn.fetch_cat_images()\n",
    "\n",
    "# # Download and save images locally\n",
    "# for idx, url in enumerate(cats_url):\n",
    "#     img_data = requests.get(url).content\n",
    "#     with open(f\"cats_and_dogs_images/cat_{idx + 1}.jpg\", 'wb') as file:\n",
    "#         file.write(img_data)\n",
    "\n"
   ]
  },
  {
   "cell_type": "code",
   "execution_count": null,
   "metadata": {},
   "outputs": [],
   "source": [
    "#------------------------ Loading collection -----------------------------#\n",
    "cat_collection = ic.RGB_convert(ic.load_image_collection(params.cat_path, 10, \".jpg\"))\n",
    "dog_collection = ic.RGB_convert(ic.load_image_collection(params.dog_path, 10, \".jpg\"))\n",
    "dog_val_collection = ic.RGB_convert(ic.load_image_collection(params.dog_val_path, 10, \".jpg\"))\n",
    "cat_val_collection = ic.RGB_convert(ic.load_image_collection(params.cat_val_path, 10, \".jpg\"))\n",
    "val_collection = cat_val_collection + dog_val_collection\n",
    "all_images = cat_collection + dog_collection"
   ]
  },
  {
   "cell_type": "code",
   "execution_count": null,
   "metadata": {},
   "outputs": [],
   "source": [
    "#-------------- Importing, initilazing and setting model and processor ---#\n",
    "# Load processor\n",
    "processor = BeitImageProcessor.from_pretrained('microsoft/beit-base-patch16-224')\n",
    "# Load the pre-trained model configuration\n",
    "config = BeitConfig.from_pretrained('microsoft/beit-base-patch16-224')\n",
    "# Set number of classes to 2 (cats and dogs)\n",
    "config.num_labels = 2\n",
    "# Initialize the model with the updated config\n",
    "model = BeitForImageClassification(config)\n",
    "\n"
   ]
  },
  {
   "cell_type": "code",
   "execution_count": null,
   "metadata": {},
   "outputs": [],
   "source": [
    "#-------------- Saving model architecture -------------------------------#\n",
    "os.makedirs(params.save_dir, exist_ok=True)  # Create the directory if it doesn't exist\n",
    "os.makedirs(params.save_archi, exist_ok=True)  # Create the directory if it doesn't exist\n",
    "config.save_pretrained(params.save_archi)\n",
    "print(\"Model architecture saved!\")"
   ]
  },
  {
   "cell_type": "code",
   "execution_count": null,
   "metadata": {},
   "outputs": [],
   "source": [
    "#-------------- Loading model on device (cpu) ----------------------------#\n",
    "device = torch.device(\"cpu\")\n",
    "model.to(device)"
   ]
  },
  {
   "cell_type": "code",
   "execution_count": null,
   "metadata": {},
   "outputs": [],
   "source": [
    "#-------------- Defining collection and labels ---------------------------#\n",
    "collection =  cat_collection + dog_collection\n",
    "labels = ([0] * len(cat_collection)) + ([1] * len(dog_collection))"
   ]
  },
  {
   "cell_type": "code",
   "execution_count": null,
   "metadata": {},
   "outputs": [],
   "source": [
    "#-------------- Converting images and labels into tensors ----------------#\n",
    "batch = processor(images=collection, return_tensors=\"pt\")\n",
    "labels = torch.tensor(labels)"
   ]
  },
  {
   "cell_type": "code",
   "execution_count": null,
   "metadata": {},
   "outputs": [],
   "source": [
    "#-------------- loading tensors on device (cpu) --------------------------#\n",
    "# inputs = {k: v.to(device) for k, v in batch[\"pixel_values\"].items()}\n",
    "inputs = batch[\"pixel_values\"].to(device)\n",
    "labels = labels.to(device)"
   ]
  },
  {
   "cell_type": "code",
   "execution_count": null,
   "metadata": {},
   "outputs": [],
   "source": [
    "#-------------- Training -----------------------------------------------#\n",
    "trained_model = fn.train_and_eval_model(model=model, processor=processor, inputs=inputs, labels=labels, epochs=params.epochs, lr=params.learning_rate, val_collection = val_collection)"
   ]
  },
  {
   "cell_type": "code",
   "execution_count": null,
   "metadata": {},
   "outputs": [],
   "source": [
    "#-------------- Evaluation -----------------------------------------------#\n",
    "# outputs = fn.eval_model(trained_model, processor, \"cpu\", val_collection)\n",
    "# success_rate = fn.success_rate(len(val_collection), outputs)\n",
    "# print(f\"success rate is {success_rate} %\")"
   ]
  },
  {
   "cell_type": "code",
   "execution_count": null,
   "metadata": {},
   "outputs": [],
   "source": [
    "#-------------- Plotting -------------------------------------------------#\n",
    "plt.figure(figsize=(10, 6))\n",
    "plt.plot(range(1, len(trained_model[\"success_rate\"]) + 1), trained_model[\"success_rate\"])\n",
    "plt.scatter(range(1, len(trained_model[\"success_rate\"]) + 1), trained_model[\"success_rate\"], s=10)\n",
    "for i, value in enumerate(trained_model[\"success_rate\"]):\n",
    "    plt.text(i + 1, value + 0.1, round(trained_model[\"losses\"][i], 2), ha='center', va='bottom', fontsize=10)  # Adjust `round(value, 2)` if you want to format the numbers\n",
    "plt.savefig(params.stat_path + \"/output_res\")\n",
    "plt.show()"
   ]
  },
  {
   "cell_type": "code",
   "execution_count": null,
   "metadata": {},
   "outputs": [],
   "source": []
  }
 ],
 "metadata": {
  "kernelspec": {
   "display_name": "Python 3",
   "language": "python",
   "name": "python3"
  },
  "language_info": {
   "codemirror_mode": {
    "name": "ipython",
    "version": 3
   },
   "file_extension": ".py",
   "mimetype": "text/x-python",
   "name": "python",
   "nbconvert_exporter": "python",
   "pygments_lexer": "ipython3",
   "version": "3.10.12"
  }
 },
 "nbformat": 4,
 "nbformat_minor": 2
}
